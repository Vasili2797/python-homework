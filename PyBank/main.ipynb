{
 "cells": [
  {
   "cell_type": "code",
   "execution_count": null,
   "metadata": {},
   "outputs": [],
   "source": [
    "import pandas as pd\n",
    "import numpy as np\n",
    "\n",
    "df = pd.read_csv (r'C:\\Users\\Giorgi\\Desktop\\bootcamp\\python-homework\\ budget_data.csv')   #read the csv file (put 'r' before the path string to address any special characters in the path, such as '\\'). Don't forget to put the file name at the end of the path + \".csv\"\n",
    "\n",
    "index = df.index\n",
    "\n",
    "number_of_rows1= len(index)\n",
    "\n",
    "number_of_rows=str(number_of_rows1)\n",
    "\n",
    "print(\"Financial Analysis\")\n",
    "print()\n",
    "print('-------------------')\n",
    "print()\n",
    "\n",
    "print(\"Total Months:\",number_of_rows)\n",
    "\n",
    "print()\n",
    "sum1=df.sum(axis=0, skipna=True)\n",
    "print(\"Total:\",sum1['Profit/Losses'])\n",
    "\n",
    "print()\n",
    "mean1=df.mean(axis=0, skipna=True)\n",
    "print(\"Average Change: \" + '%.2f' % mean1)\n",
    "\n",
    "print()\n",
    "max1=df.max(axis=0, skipna=True)\n",
    "prg = '($' + str(max1['Profit/Losses']) + ')'\n",
    "print(\"Greatest Increase in Profits:\",df.iloc[df['Profit/Losses'].idxmax()]['Date'],prg)\n",
    "#print(minimum(df,86))\n",
    "#print('Maximum value position: ',np.amax(df))\n",
    "\n",
    "print()\n",
    "min1=df.min(axis=0, skipna=True)\n",
    "prl = '($' + str(min1['Profit/Losses']) + ')'\n",
    "print(\"Greatest Decrease in Profits:\",df.iloc[df['Profit/Losses'].idxmin()]['Date'],prl)\n",
    "#df.describe()\n",
    "#df.iloc[df['Profit/Losses'].idxmax()]['Date'] df.iloc[df['Profit/Losses'].idxmin()]['Date']\n",
    "#max_index = df.index(max1)\n",
    "#print(max_index)\n",
    "#max_index_row = np.argmax(pd, axis=0)\n",
    "#print(max_index_row)"
   ]
  },
  {
   "cell_type": "code",
   "execution_count": null,
   "metadata": {},
   "outputs": [],
   "source": []
  }
 ],
 "metadata": {
  "kernelspec": {
   "display_name": "Python 3",
   "language": "python",
   "name": "python3"
  },
  "language_info": {
   "codemirror_mode": {
    "name": "ipython",
    "version": 3
   },
   "file_extension": ".py",
   "mimetype": "text/x-python",
   "name": "python",
   "nbconvert_exporter": "python",
   "pygments_lexer": "ipython3",
   "version": "3.7.9"
  }
 },
 "nbformat": 4,
 "nbformat_minor": 4
}
